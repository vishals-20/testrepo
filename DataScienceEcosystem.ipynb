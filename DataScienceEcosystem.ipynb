{
  "metadata": {
    "kernelspec": {
      "name": "python",
      "display_name": "Python (Pyodide)",
      "language": "python"
    },
    "language_info": {
      "codemirror_mode": {
        "name": "python",
        "version": 3
      },
      "file_extension": ".py",
      "mimetype": "text/x-python",
      "name": "python",
      "nbconvert_exporter": "python",
      "pygments_lexer": "ipython3",
      "version": "3.8"
    }
  },
  "nbformat_minor": 5,
  "nbformat": 4,
  "cells": [
    {
      "id": "ac87716b-1278-47f9-bec9-42d8f7c4d591",
      "cell_type": "markdown",
      "source": "# **Assignment**\n\nI was provided with an empty Jupyterlite notebook which I launched in the course, to complete this assignment. I had include a combination of markdown and code cells in this assignment.\n\n## Guidelines for the submission:\n### There are a total of 25 points possible for this final project.\n\n1. Exercise 2 - Create a markdown cell with the title of the notebook. (1 pt)\n\n2. Exercise 3 - Create a markdown cell for an introduction. (1 pt)\n\n3. Exercise 4 - Create a markdown cell to list data science languages. (3 pts)\n\n4. Exercise 5 - Create a markdown cell to list data science libraries. (3 pts)\n\n5. Exercise 6 - Create a markdown cell with a table of Data Science tools. (3 pts)\n\n6. Exercise 7 - Create a markdown cell introducing arithmetic expression examples. (1 pt)\n\n7. Exercise 8 - Create a code cell to multiply and add numbers.(2 pts)\n\n8. Exercise 9 - Create a code cell to convert minutes to hours. (2 pts)\n\n9. Exercise 10 -Insert a markdown cell to list Objectives. (3 pts)\n\n10. Exercise 11 - Create a markdown cell to indicate the Author’s name. (2 pts)\n\n11. Exercise 12 - Share your notebook through GitHub (3 pts)\n\n12. Exercise 13 - Take a screenshot of the first page of the notebook. (1 pt)\n    \n",
      "metadata": {}
    },
    {
      "id": "e279d3a2-7377-43d8-9338-c3e546a154e0",
      "cell_type": "markdown",
      "source": "### Exercise 1: Create a Jupyter Notebook",
      "metadata": {}
    },
    {
      "id": "90642806-01ec-49c8-868c-a667c92cdc6c",
      "cell_type": "markdown",
      "source": "### **Notebook** : DataScienceEcosystem.ipynb",
      "metadata": {}
    },
    {
      "id": "fbe3312d-1bc3-4a88-9f0c-b3c4b32e71ef",
      "cell_type": "markdown",
      "source": "### Exercise 2 - Create a markdown cell with the title of the notebook.",
      "metadata": {}
    },
    {
      "id": "c0b7dd50-bacf-4dc0-98a1-6785b57fb181",
      "cell_type": "markdown",
      "source": "# Data Science Tools and Ecosystem",
      "metadata": {}
    },
    {
      "id": "a5b74512-a6ff-4dd2-89cc-d493d3bfd9fe",
      "cell_type": "markdown",
      "source": "### Exercise 3 - Create a markdown cell for an introduction. (1 pt)",
      "metadata": {}
    },
    {
      "id": "728d9b1f-1d0b-4eb3-996a-4453c25444b4",
      "cell_type": "markdown",
      "source": "<p>In this notebook, Data Science Tools and Ecosystem are summarized.<p>",
      "metadata": {}
    },
    {
      "id": "b2b9bcf3-2c0b-48a1-bade-d6c3b8dc774e",
      "cell_type": "markdown",
      "source": "#### **Objectives**:\n\n- List popular languages that Data Scientists use.\n- List commonly used libraries used by Data Scientists.\n- Comment on Data Science tools.\n\n    ",
      "metadata": {}
    },
    {
      "id": "6015b630-954a-4096-bfc0-dc28b53a378c",
      "cell_type": "markdown",
      "source": "### Exercise 4 - Create a markdown cell to list data science languages. (3 pts)",
      "metadata": {}
    },
    {
      "id": "3c957deb-56d8-43b4-9ab9-7f5efea83c17",
      "cell_type": "markdown",
      "source": "#### Some of the popular languages that Data Scientists use are:\n\n- Python\n- SQL\n- R\n- Julia\n- Java\n- Scala\n- C++\n- JavaScript\n",
      "metadata": {}
    },
    {
      "id": "2e054783-ae15-402a-8391-6fbb81ec784a",
      "cell_type": "markdown",
      "source": "### Exercise 5 - Create a markdown cell to list data science libraries. (3 pts)",
      "metadata": {}
    },
    {
      "id": "5c211684-5f77-4c28-bd23-590a3ab0b368",
      "cell_type": "markdown",
      "source": "#### Some of the commonly used libraries used by Data Scientists include:\n\n* TensorFlow\n* NumPy\n* SciPy\n* Pandas\n* Matplotlib\n* Keras\n* SciKit-Learn\n* PyTorch\n* Scrapy\n* BeautifulSoup\n* LightGBM\n* ELI5\n* Theano\n* NuPIC\n* Ramp\n* Pipenv\n* Bob\n* PyBrain\n* Caffe2\n* Chainer",
      "metadata": {}
    },
    {
      "id": "22f68c77-7e82-427a-8e8d-12c0a609989a",
      "cell_type": "markdown",
      "source": "### Exercise 6 - Create a markdown cell with a table of Data Science tools. (3 pts)",
      "metadata": {}
    },
    {
      "id": "34f750eb-46e1-46e8-b8a1-45bf703d5cdb",
      "cell_type": "markdown",
      "source": "#### Data Science tools\n\n|Data Science task categories| Tools |\n|---|---|\n|Data management|MySQL, PostgreSQL, MongoDB, Apache couchDB,Apache cassendra, Hadoop file system, Ceph, Elastic search|\n|Data intergration and tranformation|Apache Airflow, Kubeflow, Apache Kafka, Apache Nifi, Apache SparkSQL, NodeRED|\n|Dta visualization|Pixi Dust, Hue, Kiba, Apache superset|\n|Model deployment|Apache PredictionIO, Seldon, Kubernetes, Redhat openshift, Mleap, TensorFlow service, TensorFlow lite, TensorFlow dotJS|\n|Model monitoring|ModelDB, Prometheus, IBM AI Fairness 360, IBM Adersariel Robustness 360 tollbox, IBM AI Explainability 360|\n|Code asset management|Git, GitHub, GitLab, Bitbucket|\n|Data asset management|Aache atlas, ODPI Egeria, Kylo|",
      "metadata": {}
    },
    {
      "id": "0ff5d698-28c6-4af7-9fbf-3c8aeac5c162",
      "cell_type": "markdown",
      "source": "### Exercise 7 - Create a markdown cell introducing arithmetic expression examples. (1 pt)",
      "metadata": {}
    },
    {
      "id": "05ff289f-d200-40f5-817a-f2d1d65e3474",
      "cell_type": "markdown",
      "source": "### Introducing Arithmetic expression\n\nAn arithmetic expression is a combination of numeric values, operators, and sometimes parenthesis. The result of this type of expression is also a numeric value. The operators used in these expressions are arithmetic operators like addition, subtraction, Multiplication, Division etc.",
      "metadata": {}
    },
    {
      "id": "05c90b77-865e-4af1-a481-aae70540acce",
      "cell_type": "markdown",
      "source": "### Below are a few examples of evaluating arithmetic expressions in Python",
      "metadata": {}
    },
    {
      "id": "1b0019a7-0338-4d65-863d-3a35f0ca72ff",
      "cell_type": "code",
      "source": "code = compile(\"15 + 7\", \"<string>\", \"eval\")\neval(code)",
      "metadata": {
        "trusted": true
      },
      "outputs": [
        {
          "execution_count": 1,
          "output_type": "execute_result",
          "data": {
            "text/plain": "22"
          },
          "metadata": {}
        }
      ],
      "execution_count": 1
    },
    {
      "id": "ee49c688-2610-4a78-8947-d12f976e940a",
      "cell_type": "code",
      "source": "code1 = compile(\"(67 + 5) * 7\", \"<string>\", \"eval\")\neval(code1)",
      "metadata": {
        "trusted": true
      },
      "outputs": [
        {
          "execution_count": 5,
          "output_type": "execute_result",
          "data": {
            "text/plain": "504"
          },
          "metadata": {}
        }
      ],
      "execution_count": 5
    },
    {
      "id": "631c4d61-6e2b-45ac-a6a7-e12c80a37434",
      "cell_type": "markdown",
      "source": "### Exercise 8 - Create a code cell to multiply and add numbers.(2 pts)",
      "metadata": {}
    },
    {
      "id": "a556813e-c573-45d9-a354-b3c4545c24ef",
      "cell_type": "markdown",
      "source": "#### This a simple arithmetic expression to mutiply then add integers",
      "metadata": {}
    },
    {
      "id": "ae03f72b-2c05-4884-ae94-adc07167487d",
      "cell_type": "code",
      "source": "(17*4)+2",
      "metadata": {
        "trusted": true
      },
      "outputs": [
        {
          "execution_count": 6,
          "output_type": "execute_result",
          "data": {
            "text/plain": "70"
          },
          "metadata": {}
        }
      ],
      "execution_count": 6
    },
    {
      "id": "0d55da1f-c304-40e5-84ce-14243b70e2c0",
      "cell_type": "markdown",
      "source": "### Exercise 9 - Create a code cell to convert minutes to hours. (2 pts)",
      "metadata": {}
    },
    {
      "id": "6a52fcb4-00de-4a39-b368-db083fbc4d61",
      "cell_type": "markdown",
      "source": "#### This will convert 135 minutes to hours by diving by 60",
      "metadata": {}
    },
    {
      "id": "383731de-c25b-4b4f-a1ce-44f26b6ae2ab",
      "cell_type": "code",
      "source": "mins = 135\n\nleftover_minutes = time % 1440\nhours = leftover_minutes // 60\nmins = leftover_minutes % 60\n\nprint(str(hours) + \" hours, \" + str(mins) +  \" mins \")",
      "metadata": {
        "trusted": true
      },
      "outputs": [
        {
          "name": "stdout",
          "text": "2 hours, 15 mins \n",
          "output_type": "stream"
        }
      ],
      "execution_count": 18
    },
    {
      "id": "99d5fb1a-70ad-4007-bb03-193d14c95fd8",
      "cell_type": "code",
      "source": "minutes = 135\nhour = '{:02d}:{:02d}'.format(*divmod(minutes, 60))\nprint (hour)",
      "metadata": {
        "trusted": true
      },
      "outputs": [
        {
          "name": "stdout",
          "text": "02:15\n",
          "output_type": "stream"
        }
      ],
      "execution_count": 9
    },
    {
      "id": "8df63065-35dc-4418-a0dc-51c8589c0ce6",
      "cell_type": "markdown",
      "source": "### Exercise 10 -Insert a markdown cell to list Objectives.",
      "metadata": {}
    },
    {
      "id": "2ab21b9e-1ba9-4739-a770-c672cb525d65",
      "cell_type": "markdown",
      "source": "<p>Below the introduction cell created in Exercise 3, insert a new markdown cell to list the objectives that this notebook covered (i.e. some of the key takeaways from the course). In this new cell start with an introductory line titled: Objectives: in bold font. Then using an unordered list (bullets) indicate 3 to 5 items covered in this notebook, such as List popular languages for Data Science.</p>",
      "metadata": {}
    },
    {
      "id": "2fe637ac-7c3c-4053-9a9f-7cadbb99d5b6",
      "cell_type": "markdown",
      "source": "### Exercise 11 - Create a markdown cell to indicate the Author’s name.",
      "metadata": {}
    },
    {
      "id": "ee566760-e4a1-4439-baf6-5e54e551929f",
      "cell_type": "markdown",
      "source": "## Author:\n\nVishal",
      "metadata": {}
    }
  ]
}